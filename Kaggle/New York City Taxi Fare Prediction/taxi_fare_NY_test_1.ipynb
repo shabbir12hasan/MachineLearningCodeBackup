{
 "cells": [
  {
   "cell_type": "code",
   "execution_count": null,
   "metadata": {},
   "outputs": [],
   "source": [
    "import pandas as pd\n",
    "import numpy as np\n",
    "from sklearn.model_selection import train_test_split\n",
    "\n",
    "import matplotlib.pyplot as plt\n",
    "import numpy as np\n",
    "from sklearn import datasets, linear_model\n",
    "from sklearn.metrics import mean_squared_error, r2_score\n",
    "\n",
    "from IPython.core.interactiveshell import InteractiveShell\n",
    "InteractiveShell.ast_node_interactivity = \"all\""
   ]
  },
  {
   "cell_type": "markdown",
   "metadata": {},
   "source": [
    "###  Importing training and test dataset"
   ]
  },
  {
   "cell_type": "code",
   "execution_count": null,
   "metadata": {},
   "outputs": [],
   "source": [
    "df_whole = pd.read_csv(\"/Users/shabbir.hasan/Documents/Hasan/Anaconda_rep/Kaggle/New_York_City_Taxi_Fare_Prediction/train.csv\")"
   ]
  },
  {
   "cell_type": "code",
   "execution_count": null,
   "metadata": {},
   "outputs": [],
   "source": [
    "test_kaggle = pd.read_csv(\"/Users/shabbir.hasan/Documents/Hasan/Anaconda_rep/Kaggle/New_York_City_Taxi_Fare_Prediction/test.csv\")"
   ]
  },
  {
   "cell_type": "markdown",
   "metadata": {},
   "source": [
    "###  Training model on 50% of data"
   ]
  },
  {
   "cell_type": "code",
   "execution_count": null,
   "metadata": {},
   "outputs": [],
   "source": [
    "# splitting data randomly (not using whole data for now)\n",
    "train, drop = train_test_split(df_whole, test_size=0.5)"
   ]
  },
  {
   "cell_type": "code",
   "execution_count": null,
   "metadata": {},
   "outputs": [],
   "source": [
    "train.shape"
   ]
  },
  {
   "cell_type": "code",
   "execution_count": null,
   "metadata": {},
   "outputs": [],
   "source": [
    "#removing index\n",
    "train = train.reset_index()\n",
    "\n",
    "train =  train.drop('index', 1)"
   ]
  },
  {
   "cell_type": "markdown",
   "metadata": {},
   "source": [
    "### Creating variables out of pickup_datetime"
   ]
  },
  {
   "cell_type": "code",
   "execution_count": 6,
   "metadata": {},
   "outputs": [],
   "source": [
    "# creating year\n",
    "train['year'] = train.pickup_datetime.apply(lambda x: x[0:4])\n",
    "\n",
    "#creating month\n",
    "train['month'] = train.pickup_datetime.apply(lambda x: x[5:7])\n",
    "\n",
    "#year_month\n",
    "train['year_month'] = train.pickup_datetime.apply(lambda x: x[0:7])\n",
    "\n",
    "#Day_of_month\n",
    "train['day_of_month'] = train.pickup_datetime.apply(lambda x: x[8:10])\n",
    "\n",
    "#date\n",
    "train['date'] = train.pickup_datetime.apply(lambda x: x[0:10])\n",
    "\n",
    "#time\n",
    "train['time'] = train.pickup_datetime.apply(lambda x: x[11:16])\n",
    "\n",
    "#time_zone --just to make sure all are same\n",
    "# tested they all are same, so no need of creating this field\n",
    "#train['time_zone'] = train.pickup_datetime.apply(lambda x: x[-3:])\n"
   ]
  },
  {
   "cell_type": "code",
   "execution_count": 7,
   "metadata": {},
   "outputs": [],
   "source": [
    "# test: to check values while slicing\n",
    "# train.pickup_datetime[13][-3:]"
   ]
  },
  {
   "cell_type": "code",
   "execution_count": 8,
   "metadata": {},
   "outputs": [],
   "source": [
    "# converting date column into date format\n",
    "train['date'] = pd.to_datetime(train['date'])\n",
    "\n",
    "# creating day of the week column\n",
    "train['day_of_week'] = train['date'].dt.day_name()"
   ]
  },
  {
   "cell_type": "code",
   "execution_count": 9,
   "metadata": {},
   "outputs": [
    {
     "data": {
      "text/plain": [
       "Friday       4265138\n",
       "Saturday     4203229\n",
       "Thursday     4151932\n",
       "Wednesday    4019069\n",
       "Tuesday      3882165\n",
       "Sunday       3636418\n",
       "Monday       3553977\n",
       "Name: day_of_week, dtype: int64"
      ]
     },
     "execution_count": 9,
     "metadata": {},
     "output_type": "execute_result"
    }
   ],
   "source": [
    "# checking split of rides according to day of the week\n",
    "train['day_of_week'].value_counts()"
   ]
  },
  {
   "cell_type": "code",
   "execution_count": 10,
   "metadata": {},
   "outputs": [],
   "source": [
    "# creating weekend/weekday column\n",
    "train['weekend_weekday'] = train.day_of_week.apply(lambda x: 'weekend' if x in ('Friday', 'Saturday', 'Sunday') else 'weekday')"
   ]
  },
  {
   "cell_type": "code",
   "execution_count": 11,
   "metadata": {},
   "outputs": [],
   "source": [
    "# checking timezone types\n",
    "# train['time_zone'].value_counts()"
   ]
  },
  {
   "cell_type": "code",
   "execution_count": 12,
   "metadata": {},
   "outputs": [],
   "source": [
    "#only one time zone detected,\n",
    "# dropping timezone column\n",
    "# train = train.drop('time_zone',1)"
   ]
  },
  {
   "cell_type": "code",
   "execution_count": 13,
   "metadata": {},
   "outputs": [
    {
     "data": {
      "text/html": [
       "<div>\n",
       "<style scoped>\n",
       "    .dataframe tbody tr th:only-of-type {\n",
       "        vertical-align: middle;\n",
       "    }\n",
       "\n",
       "    .dataframe tbody tr th {\n",
       "        vertical-align: top;\n",
       "    }\n",
       "\n",
       "    .dataframe thead th {\n",
       "        text-align: right;\n",
       "    }\n",
       "</style>\n",
       "<table border=\"1\" class=\"dataframe\">\n",
       "  <thead>\n",
       "    <tr style=\"text-align: right;\">\n",
       "      <th></th>\n",
       "      <th>key</th>\n",
       "      <th>fare_amount</th>\n",
       "      <th>pickup_datetime</th>\n",
       "      <th>pickup_longitude</th>\n",
       "      <th>pickup_latitude</th>\n",
       "      <th>dropoff_longitude</th>\n",
       "      <th>dropoff_latitude</th>\n",
       "      <th>passenger_count</th>\n",
       "      <th>year</th>\n",
       "      <th>month</th>\n",
       "      <th>year_month</th>\n",
       "      <th>day_of_month</th>\n",
       "      <th>date</th>\n",
       "      <th>time</th>\n",
       "      <th>day_of_week</th>\n",
       "      <th>weekend_weekday</th>\n",
       "    </tr>\n",
       "  </thead>\n",
       "  <tbody>\n",
       "    <tr>\n",
       "      <th>0</th>\n",
       "      <td>2011-04-03 13:53:32.0000003</td>\n",
       "      <td>10.1</td>\n",
       "      <td>2011-04-03 13:53:32 UTC</td>\n",
       "      <td>-73.978616</td>\n",
       "      <td>40.719984</td>\n",
       "      <td>-73.998923</td>\n",
       "      <td>40.739226</td>\n",
       "      <td>2</td>\n",
       "      <td>2011</td>\n",
       "      <td>04</td>\n",
       "      <td>2011-04</td>\n",
       "      <td>03</td>\n",
       "      <td>2011-04-03</td>\n",
       "      <td>13:53</td>\n",
       "      <td>Sunday</td>\n",
       "      <td>weekend</td>\n",
       "    </tr>\n",
       "    <tr>\n",
       "      <th>1</th>\n",
       "      <td>2013-12-26 19:17:46.0000004</td>\n",
       "      <td>5.0</td>\n",
       "      <td>2013-12-26 19:17:46 UTC</td>\n",
       "      <td>-73.982265</td>\n",
       "      <td>40.757470</td>\n",
       "      <td>-73.976962</td>\n",
       "      <td>40.764317</td>\n",
       "      <td>1</td>\n",
       "      <td>2013</td>\n",
       "      <td>12</td>\n",
       "      <td>2013-12</td>\n",
       "      <td>26</td>\n",
       "      <td>2013-12-26</td>\n",
       "      <td>19:17</td>\n",
       "      <td>Thursday</td>\n",
       "      <td>weekday</td>\n",
       "    </tr>\n",
       "    <tr>\n",
       "      <th>2</th>\n",
       "      <td>2014-09-24 14:03:40.0000002</td>\n",
       "      <td>8.0</td>\n",
       "      <td>2014-09-24 14:03:40 UTC</td>\n",
       "      <td>-73.953847</td>\n",
       "      <td>40.786901</td>\n",
       "      <td>-73.969568</td>\n",
       "      <td>40.794693</td>\n",
       "      <td>1</td>\n",
       "      <td>2014</td>\n",
       "      <td>09</td>\n",
       "      <td>2014-09</td>\n",
       "      <td>24</td>\n",
       "      <td>2014-09-24</td>\n",
       "      <td>14:03</td>\n",
       "      <td>Wednesday</td>\n",
       "      <td>weekday</td>\n",
       "    </tr>\n",
       "    <tr>\n",
       "      <th>3</th>\n",
       "      <td>2013-03-05 01:14:00.00000036</td>\n",
       "      <td>23.5</td>\n",
       "      <td>2013-03-05 01:14:00 UTC</td>\n",
       "      <td>-73.994837</td>\n",
       "      <td>40.750225</td>\n",
       "      <td>-73.923215</td>\n",
       "      <td>40.773437</td>\n",
       "      <td>1</td>\n",
       "      <td>2013</td>\n",
       "      <td>03</td>\n",
       "      <td>2013-03</td>\n",
       "      <td>05</td>\n",
       "      <td>2013-03-05</td>\n",
       "      <td>01:14</td>\n",
       "      <td>Tuesday</td>\n",
       "      <td>weekday</td>\n",
       "    </tr>\n",
       "    <tr>\n",
       "      <th>4</th>\n",
       "      <td>2012-10-16 17:34:00.00000037</td>\n",
       "      <td>8.0</td>\n",
       "      <td>2012-10-16 17:34:00 UTC</td>\n",
       "      <td>-73.976778</td>\n",
       "      <td>40.747578</td>\n",
       "      <td>-73.988332</td>\n",
       "      <td>40.746020</td>\n",
       "      <td>2</td>\n",
       "      <td>2012</td>\n",
       "      <td>10</td>\n",
       "      <td>2012-10</td>\n",
       "      <td>16</td>\n",
       "      <td>2012-10-16</td>\n",
       "      <td>17:34</td>\n",
       "      <td>Tuesday</td>\n",
       "      <td>weekday</td>\n",
       "    </tr>\n",
       "  </tbody>\n",
       "</table>\n",
       "</div>"
      ],
      "text/plain": [
       "                            key  fare_amount          pickup_datetime  \\\n",
       "0   2011-04-03 13:53:32.0000003         10.1  2011-04-03 13:53:32 UTC   \n",
       "1   2013-12-26 19:17:46.0000004          5.0  2013-12-26 19:17:46 UTC   \n",
       "2   2014-09-24 14:03:40.0000002          8.0  2014-09-24 14:03:40 UTC   \n",
       "3  2013-03-05 01:14:00.00000036         23.5  2013-03-05 01:14:00 UTC   \n",
       "4  2012-10-16 17:34:00.00000037          8.0  2012-10-16 17:34:00 UTC   \n",
       "\n",
       "   pickup_longitude  pickup_latitude  dropoff_longitude  dropoff_latitude  \\\n",
       "0        -73.978616        40.719984         -73.998923         40.739226   \n",
       "1        -73.982265        40.757470         -73.976962         40.764317   \n",
       "2        -73.953847        40.786901         -73.969568         40.794693   \n",
       "3        -73.994837        40.750225         -73.923215         40.773437   \n",
       "4        -73.976778        40.747578         -73.988332         40.746020   \n",
       "\n",
       "   passenger_count  year month year_month day_of_month       date   time  \\\n",
       "0                2  2011    04    2011-04           03 2011-04-03  13:53   \n",
       "1                1  2013    12    2013-12           26 2013-12-26  19:17   \n",
       "2                1  2014    09    2014-09           24 2014-09-24  14:03   \n",
       "3                1  2013    03    2013-03           05 2013-03-05  01:14   \n",
       "4                2  2012    10    2012-10           16 2012-10-16  17:34   \n",
       "\n",
       "  day_of_week weekend_weekday  \n",
       "0      Sunday         weekend  \n",
       "1    Thursday         weekday  \n",
       "2   Wednesday         weekday  \n",
       "3     Tuesday         weekday  \n",
       "4     Tuesday         weekday  "
      ]
     },
     "execution_count": 13,
     "metadata": {},
     "output_type": "execute_result"
    }
   ],
   "source": [
    "train.head()"
   ]
  },
  {
   "cell_type": "code",
   "execution_count": 17,
   "metadata": {},
   "outputs": [
    {
     "name": "stdout",
     "output_type": "stream",
     "text": [
      "Collecting pygeocoder\n",
      "  Downloading https://files.pythonhosted.org/packages/3b/79/2cf3a4dfe54705bbf07cbb25940078dfa595608aa4ecb9f0aaaae9faba08/pygeocoder-1.2.5.tar.gz\n",
      "Requirement already satisfied: requests>=1.0 in c:\\users\\shabbir.hasan\\appdata\\local\\continuum\\anaconda3\\lib\\site-packages (from pygeocoder) (2.20.1)\n",
      "Requirement already satisfied: certifi>=2017.4.17 in c:\\users\\shabbir.hasan\\appdata\\local\\continuum\\anaconda3\\lib\\site-packages (from requests>=1.0->pygeocoder) (2018.8.24)\n",
      "Requirement already satisfied: chardet<3.1.0,>=3.0.2 in c:\\users\\shabbir.hasan\\appdata\\local\\continuum\\anaconda3\\lib\\site-packages (from requests>=1.0->pygeocoder) (3.0.4)\n",
      "Requirement already satisfied: urllib3<1.25,>=1.21.1 in c:\\users\\shabbir.hasan\\appdata\\local\\continuum\\anaconda3\\lib\\site-packages (from requests>=1.0->pygeocoder) (1.23)\n",
      "Requirement already satisfied: idna<2.8,>=2.5 in c:\\users\\shabbir.hasan\\appdata\\local\\continuum\\anaconda3\\lib\\site-packages (from requests>=1.0->pygeocoder) (2.7)\n",
      "Building wheels for collected packages: pygeocoder\n",
      "  Running setup.py bdist_wheel for pygeocoder: started\n",
      "  Running setup.py bdist_wheel for pygeocoder: finished with status 'done'\n",
      "  Stored in directory: C:\\Users\\shabbir.hasan\\AppData\\Local\\pip\\Cache\\wheels\\7c\\4c\\00\\d05c66c4af5411c554c91b8079732c8a0359c2226fb8c01031\n",
      "Successfully built pygeocoder\n",
      "Installing collected packages: pygeocoder\n",
      "Successfully installed pygeocoder-1.2.5\n"
     ]
    },
    {
     "name": "stderr",
     "output_type": "stream",
     "text": [
      "twisted 18.7.0 requires PyHamcrest>=1.9.0, which is not installed.\n",
      "You are using pip version 10.0.1, however version 18.1 is available.\n",
      "You should consider upgrading via the 'python -m pip install --upgrade pip' command.\n"
     ]
    }
   ],
   "source": [
    "!pip install pygeocoder"
   ]
  },
  {
   "cell_type": "code",
   "execution_count": 18,
   "metadata": {},
   "outputs": [],
   "source": [
    "# package to get address from lat long\n",
    "from pygeocoder import Geocoder"
   ]
  },
  {
   "cell_type": "code",
   "execution_count": 20,
   "metadata": {},
   "outputs": [
    {
     "ename": "GeocoderError",
     "evalue": "Error OVER_QUERY_LIMIT\nQuery: https://maps.google.com/maps/api/geocode/json?latlng=40.739226%2C-73.998923&sensor=false&bounds=&region=&language=",
     "output_type": "error",
     "traceback": [
      "\u001b[1;31m---------------------------------------------------------------------------\u001b[0m",
      "\u001b[1;31mGeocoderError\u001b[0m                             Traceback (most recent call last)",
      "\u001b[1;32m<ipython-input-20-782e03ccbc46>\u001b[0m in \u001b[0;36m<module>\u001b[1;34m()\u001b[0m\n\u001b[1;32m----> 1\u001b[1;33m \u001b[0mresults\u001b[0m \u001b[1;33m=\u001b[0m \u001b[0mGeocoder\u001b[0m\u001b[1;33m.\u001b[0m\u001b[0mreverse_geocode\u001b[0m\u001b[1;33m(\u001b[0m\u001b[0mtrain\u001b[0m\u001b[1;33m[\u001b[0m\u001b[1;34m'dropoff_latitude'\u001b[0m\u001b[1;33m]\u001b[0m\u001b[1;33m[\u001b[0m\u001b[1;36m0\u001b[0m\u001b[1;33m]\u001b[0m\u001b[1;33m,\u001b[0m \u001b[0mtrain\u001b[0m\u001b[1;33m[\u001b[0m\u001b[1;34m'dropoff_longitude'\u001b[0m\u001b[1;33m]\u001b[0m\u001b[1;33m[\u001b[0m\u001b[1;36m0\u001b[0m\u001b[1;33m]\u001b[0m\u001b[1;33m)\u001b[0m\u001b[1;33m\u001b[0m\u001b[0m\n\u001b[0m",
      "\u001b[1;32m~\\AppData\\Local\\Continuum\\anaconda3\\lib\\site-packages\\pygeocoder.py\u001b[0m in \u001b[0;36mreverse_geocode\u001b[1;34m(self, lat, lng, sensor, bounds, region, language)\u001b[0m\n\u001b[0;32m    163\u001b[0m             \u001b[1;32mreturn\u001b[0m \u001b[0mGeocoderResult\u001b[0m\u001b[1;33m(\u001b[0m\u001b[0mself\u001b[0m\u001b[1;33m.\u001b[0m\u001b[0mget_data\u001b[0m\u001b[1;33m(\u001b[0m\u001b[0mparams\u001b[0m\u001b[1;33m=\u001b[0m\u001b[0mparams\u001b[0m\u001b[1;33m)\u001b[0m\u001b[1;33m)\u001b[0m\u001b[1;33m\u001b[0m\u001b[0m\n\u001b[0;32m    164\u001b[0m         \u001b[1;32melse\u001b[0m\u001b[1;33m:\u001b[0m\u001b[1;33m\u001b[0m\u001b[0m\n\u001b[1;32m--> 165\u001b[1;33m             \u001b[1;32mreturn\u001b[0m \u001b[0mGeocoderResult\u001b[0m\u001b[1;33m(\u001b[0m\u001b[0mGeocoder\u001b[0m\u001b[1;33m.\u001b[0m\u001b[0mget_data\u001b[0m\u001b[1;33m(\u001b[0m\u001b[0mparams\u001b[0m\u001b[1;33m=\u001b[0m\u001b[0mparams\u001b[0m\u001b[1;33m)\u001b[0m\u001b[1;33m)\u001b[0m\u001b[1;33m\u001b[0m\u001b[0m\n\u001b[0m\u001b[0;32m    166\u001b[0m \u001b[1;33m\u001b[0m\u001b[0m\n\u001b[0;32m    167\u001b[0m     \u001b[1;32mdef\u001b[0m \u001b[0mset_proxy\u001b[0m\u001b[1;33m(\u001b[0m\u001b[0mself\u001b[0m\u001b[1;33m,\u001b[0m \u001b[0mproxy\u001b[0m\u001b[1;33m)\u001b[0m\u001b[1;33m:\u001b[0m\u001b[1;33m\u001b[0m\u001b[0m\n",
      "\u001b[1;32m~\\AppData\\Local\\Continuum\\anaconda3\\lib\\site-packages\\pygeocoder.py\u001b[0m in \u001b[0;36mget_data\u001b[1;34m(self, params)\u001b[0m\n\u001b[0;32m    210\u001b[0m \u001b[1;33m\u001b[0m\u001b[0m\n\u001b[0;32m    211\u001b[0m         \u001b[1;32mif\u001b[0m \u001b[0mresponse_json\u001b[0m\u001b[1;33m[\u001b[0m\u001b[1;34m'status'\u001b[0m\u001b[1;33m]\u001b[0m \u001b[1;33m!=\u001b[0m \u001b[0mGeocoderError\u001b[0m\u001b[1;33m.\u001b[0m\u001b[0mG_GEO_OK\u001b[0m\u001b[1;33m:\u001b[0m\u001b[1;33m\u001b[0m\u001b[0m\n\u001b[1;32m--> 212\u001b[1;33m             \u001b[1;32mraise\u001b[0m \u001b[0mGeocoderError\u001b[0m\u001b[1;33m(\u001b[0m\u001b[0mresponse_json\u001b[0m\u001b[1;33m[\u001b[0m\u001b[1;34m'status'\u001b[0m\u001b[1;33m]\u001b[0m\u001b[1;33m,\u001b[0m \u001b[0mresponse\u001b[0m\u001b[1;33m.\u001b[0m\u001b[0murl\u001b[0m\u001b[1;33m)\u001b[0m\u001b[1;33m\u001b[0m\u001b[0m\n\u001b[0m\u001b[0;32m    213\u001b[0m         \u001b[1;32mreturn\u001b[0m \u001b[0mresponse_json\u001b[0m\u001b[1;33m[\u001b[0m\u001b[1;34m'results'\u001b[0m\u001b[1;33m]\u001b[0m\u001b[1;33m\u001b[0m\u001b[0m\n\u001b[0;32m    214\u001b[0m \u001b[1;33m\u001b[0m\u001b[0m\n",
      "\u001b[1;31mGeocoderError\u001b[0m: Error OVER_QUERY_LIMIT\nQuery: https://maps.google.com/maps/api/geocode/json?latlng=40.739226%2C-73.998923&sensor=false&bounds=&region=&language="
     ]
    }
   ],
   "source": [
    "results = Geocoder.reverse_geocode(train['dropoff_latitude'][0], train['dropoff_longitude'][0])"
   ]
  },
  {
   "cell_type": "code",
   "execution_count": null,
   "metadata": {},
   "outputs": [],
   "source": []
  },
  {
   "cell_type": "code",
   "execution_count": null,
   "metadata": {},
   "outputs": [],
   "source": []
  },
  {
   "cell_type": "code",
   "execution_count": null,
   "metadata": {},
   "outputs": [],
   "source": []
  },
  {
   "cell_type": "code",
   "execution_count": null,
   "metadata": {},
   "outputs": [],
   "source": []
  },
  {
   "cell_type": "code",
   "execution_count": null,
   "metadata": {},
   "outputs": [],
   "source": []
  },
  {
   "cell_type": "code",
   "execution_count": null,
   "metadata": {},
   "outputs": [],
   "source": []
  },
  {
   "cell_type": "code",
   "execution_count": null,
   "metadata": {},
   "outputs": [],
   "source": []
  },
  {
   "cell_type": "code",
   "execution_count": null,
   "metadata": {
    "scrolled": true
   },
   "outputs": [],
   "source": [
    "train.head(100)"
   ]
  },
  {
   "cell_type": "code",
   "execution_count": null,
   "metadata": {},
   "outputs": [],
   "source": [
    "train.isnull().values.any()"
   ]
  },
  {
   "cell_type": "code",
   "execution_count": null,
   "metadata": {},
   "outputs": [],
   "source": [
    "train = train.dropna() "
   ]
  },
  {
   "cell_type": "code",
   "execution_count": null,
   "metadata": {},
   "outputs": [],
   "source": [
    "#Splitting into test and trin\n",
    "# splitting data randomly (not using whole data for now, taking very small chunk)\n",
    "#train, test = train_test_split(train, test_size=0.25)"
   ]
  },
  {
   "cell_type": "code",
   "execution_count": null,
   "metadata": {},
   "outputs": [],
   "source": [
    "#train.shape\n",
    "#test.shape"
   ]
  },
  {
   "cell_type": "code",
   "execution_count": null,
   "metadata": {},
   "outputs": [],
   "source": [
    "test.head()"
   ]
  },
  {
   "cell_type": "code",
   "execution_count": null,
   "metadata": {
    "scrolled": true
   },
   "outputs": [],
   "source": [
    "#removing key and pickup_datetime\n",
    "train = train.drop('key', 1)\n",
    "train = train.drop('pickup_datetime', 1)"
   ]
  },
  {
   "cell_type": "code",
   "execution_count": null,
   "metadata": {},
   "outputs": [],
   "source": [
    "#removing key and pickup_datetime\n",
    "test = test.drop('key', 1)\n",
    "test = test.drop('pickup_datetime', 1)"
   ]
  },
  {
   "cell_type": "code",
   "execution_count": null,
   "metadata": {},
   "outputs": [],
   "source": [
    "# Split the data into training/testing sets\n",
    "train_label = train.fare_amount\n",
    "train_data = train.drop('fare_amount', 1)"
   ]
  },
  {
   "cell_type": "code",
   "execution_count": null,
   "metadata": {},
   "outputs": [],
   "source": [
    "test = test.dropna() "
   ]
  },
  {
   "cell_type": "code",
   "execution_count": null,
   "metadata": {},
   "outputs": [],
   "source": [
    "test.head()\n",
    "test.shape"
   ]
  },
  {
   "cell_type": "code",
   "execution_count": null,
   "metadata": {},
   "outputs": [],
   "source": [
    "test_label = test.fare_amount\n",
    "test_data = test.drop('fare_amount', 1)"
   ]
  },
  {
   "cell_type": "markdown",
   "metadata": {},
   "source": [
    "####  creating test model and predicting on base of it"
   ]
  },
  {
   "cell_type": "code",
   "execution_count": null,
   "metadata": {},
   "outputs": [],
   "source": [
    "# Create linear regression object\n",
    "regr = linear_model.LinearRegression()"
   ]
  },
  {
   "cell_type": "code",
   "execution_count": null,
   "metadata": {
    "scrolled": true
   },
   "outputs": [],
   "source": [
    "# Train the model using the training sets\n",
    "regr.fit(train_data, train_label)"
   ]
  },
  {
   "cell_type": "code",
   "execution_count": null,
   "metadata": {},
   "outputs": [],
   "source": [
    "# Make predictions using the testing set\n",
    "test_label_pred = regr.predict(test_data)"
   ]
  },
  {
   "cell_type": "code",
   "execution_count": null,
   "metadata": {},
   "outputs": [],
   "source": [
    "# The coefficients\n",
    "print('Coefficients: \\n', regr.coef_)\n",
    "# The mean squared error\n",
    "print(\"Mean squared error: %.2f\"\n",
    "      % mean_squared_error(test_label, test_label_pred))"
   ]
  },
  {
   "cell_type": "code",
   "execution_count": null,
   "metadata": {},
   "outputs": [],
   "source": [
    "# Explained variance score: 1 is perfect prediction\n",
    "print('Variance score: %.2f' % r2_score(test_label, test_label_pred))"
   ]
  },
  {
   "cell_type": "markdown",
   "metadata": {},
   "source": [
    "####  predicting on given test data"
   ]
  },
  {
   "cell_type": "code",
   "execution_count": null,
   "metadata": {},
   "outputs": [],
   "source": [
    "test_kaggle.head()"
   ]
  },
  {
   "cell_type": "code",
   "execution_count": null,
   "metadata": {},
   "outputs": [],
   "source": [
    "test_kaggle.key[8][14:21]"
   ]
  },
  {
   "cell_type": "code",
   "execution_count": null,
   "metadata": {},
   "outputs": [],
   "source": [
    "# ?test_kaggle.key = test_kaggle.key.apply(lambda x: x[14:21])"
   ]
  },
  {
   "cell_type": "code",
   "execution_count": null,
   "metadata": {},
   "outputs": [],
   "source": [
    "# kaggle_key = test_kaggle.key\n",
    "test_kaggle = test_kaggle.drop('key', 1)\n",
    "test_kaggle = test_kaggle.drop('pickup_datetime', 1)"
   ]
  },
  {
   "cell_type": "code",
   "execution_count": null,
   "metadata": {},
   "outputs": [],
   "source": [
    "# Make predictions using the testing set\n",
    "test_kagle_label_pred = regr.predict(test_kaggle)"
   ]
  },
  {
   "cell_type": "code",
   "execution_count": null,
   "metadata": {},
   "outputs": [],
   "source": [
    "#checking values\n",
    "test_kagle_label_pred[1:5]"
   ]
  },
  {
   "cell_type": "code",
   "execution_count": null,
   "metadata": {},
   "outputs": [],
   "source": [
    "#rounding of to two decimal\n",
    "import numpy as np\n",
    "test_kagle_label_pred = np.round(test_kagle_label_pred, decimals=2)"
   ]
  },
  {
   "cell_type": "code",
   "execution_count": null,
   "metadata": {},
   "outputs": [],
   "source": [
    "#checking values\n",
    "test_kagle_label_pred[1:5]"
   ]
  },
  {
   "cell_type": "code",
   "execution_count": null,
   "metadata": {},
   "outputs": [],
   "source": [
    "submission = pd.DataFrame()"
   ]
  },
  {
   "cell_type": "code",
   "execution_count": null,
   "metadata": {},
   "outputs": [],
   "source": [
    "submission.key = pd.DataFrame(test_kaggle.key)\n",
    "submission.fare_amount = pd.DataFrame(test_kagle_label_pred)"
   ]
  },
  {
   "cell_type": "code",
   "execution_count": null,
   "metadata": {},
   "outputs": [],
   "source": [
    "col_names =  ['key', 'fare_amount']\n",
    "submission  = pd.DataFrame(columns = col_names)\n"
   ]
  },
  {
   "cell_type": "code",
   "execution_count": null,
   "metadata": {},
   "outputs": [],
   "source": [
    "submission.head()"
   ]
  },
  {
   "cell_type": "code",
   "execution_count": null,
   "metadata": {},
   "outputs": [],
   "source": [
    "submission.key = (test_kaggle.key)\n",
    "submission.fare_amount = test_kagle_label_pred"
   ]
  },
  {
   "cell_type": "code",
   "execution_count": null,
   "metadata": {
    "scrolled": true
   },
   "outputs": [],
   "source": [
    "submission.head()"
   ]
  },
  {
   "cell_type": "code",
   "execution_count": null,
   "metadata": {},
   "outputs": [],
   "source": [
    "submission.to_csv('submission_2.csv', index=False )"
   ]
  },
  {
   "cell_type": "code",
   "execution_count": null,
   "metadata": {},
   "outputs": [],
   "source": []
  },
  {
   "cell_type": "code",
   "execution_count": null,
   "metadata": {},
   "outputs": [],
   "source": []
  },
  {
   "cell_type": "code",
   "execution_count": null,
   "metadata": {},
   "outputs": [],
   "source": []
  },
  {
   "cell_type": "code",
   "execution_count": null,
   "metadata": {},
   "outputs": [],
   "source": []
  },
  {
   "cell_type": "code",
   "execution_count": null,
   "metadata": {},
   "outputs": [],
   "source": [
    "from sklearn.ensemble import RandomForestRegressor\n",
    "from sklearn.datasets import make_regression"
   ]
  },
  {
   "cell_type": "code",
   "execution_count": null,
   "metadata": {},
   "outputs": [],
   "source": [
    "train.isnull().values.any()"
   ]
  },
  {
   "cell_type": "code",
   "execution_count": null,
   "metadata": {},
   "outputs": [],
   "source": [
    "reg = RandomForestRegressor(n_estimators=1000, max_depth=3,\n",
    "                              random_state=0)"
   ]
  },
  {
   "cell_type": "code",
   "execution_count": null,
   "metadata": {},
   "outputs": [],
   "source": [
    "reg.fit(train_data, train_label)"
   ]
  },
  {
   "cell_type": "code",
   "execution_count": null,
   "metadata": {},
   "outputs": [],
   "source": [
    "RandomForestRegressor(bootstrap=True, criterion='mse', max_depth=2,\n",
    "           max_features='auto', max_leaf_nodes=None,\n",
    "           min_impurity_decrease=0.0, min_impurity_split=None,\n",
    "           min_samples_leaf=1, min_samples_split=2,\n",
    "           min_weight_fraction_leaf=0.0, n_estimators=100, n_jobs=None,\n",
    "           oob_score=False, random_state=0, verbose=0, warm_start=False)"
   ]
  },
  {
   "cell_type": "code",
   "execution_count": null,
   "metadata": {},
   "outputs": [],
   "source": [
    "print(clf.feature_importances_)"
   ]
  },
  {
   "cell_type": "code",
   "execution_count": null,
   "metadata": {},
   "outputs": [],
   "source": [
    "test_label_pred = reg.predict(test_data)"
   ]
  },
  {
   "cell_type": "code",
   "execution_count": null,
   "metadata": {},
   "outputs": [],
   "source": [
    "# The mean squared error\n",
    "print(\"Mean squared error: %.2f\"\n",
    "      % mean_squared_error(test_label, test_label_pred))"
   ]
  },
  {
   "cell_type": "code",
   "execution_count": null,
   "metadata": {},
   "outputs": [],
   "source": []
  }
 ],
 "metadata": {
  "kernelspec": {
   "display_name": "Python 3",
   "language": "python",
   "name": "python3"
  },
  "language_info": {
   "codemirror_mode": {
    "name": "ipython",
    "version": 3
   },
   "file_extension": ".py",
   "mimetype": "text/x-python",
   "name": "python",
   "nbconvert_exporter": "python",
   "pygments_lexer": "ipython3",
   "version": "3.7.0"
  }
 },
 "nbformat": 4,
 "nbformat_minor": 2
}
