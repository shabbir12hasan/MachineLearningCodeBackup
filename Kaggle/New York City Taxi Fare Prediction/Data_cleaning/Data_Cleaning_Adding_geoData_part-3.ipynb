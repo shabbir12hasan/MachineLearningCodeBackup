{
 "cells": [
  {
   "cell_type": "code",
   "execution_count": 1,
   "metadata": {},
   "outputs": [],
   "source": [
    "import pandas as pd\n",
    "import numpy as np\n",
    "from sklearn.model_selection import train_test_split\n",
    "\n",
    "import matplotlib.pyplot as plt\n",
    "import numpy as np\n",
    "from sklearn import datasets, linear_model\n",
    "from sklearn.metrics import mean_squared_error, r2_score\n",
    "\n",
    "from IPython.core.interactiveshell import InteractiveShell\n",
    "InteractiveShell.ast_node_interactivity = \"all\"\n",
    "\n",
    "from geopy.geocoders import Nominatim"
   ]
  },
  {
   "cell_type": "code",
   "execution_count": 5,
   "metadata": {},
   "outputs": [],
   "source": [
    "geolocator = Nominatim(user_agent=\"specify_your_app_name_here\")"
   ]
  },
  {
   "cell_type": "code",
   "execution_count": 6,
   "metadata": {},
   "outputs": [],
   "source": [
    "location = geolocator.reverse(\"40.753808 -73.978325\")"
   ]
  },
  {
   "cell_type": "code",
   "execution_count": 10,
   "metadata": {},
   "outputs": [
    {
     "name": "stdout",
     "output_type": "stream",
     "text": [
      "335 Madison Avenue, 335, Madison Avenue, Midtown East, Manhattan, Manhattan Community Board 5, New York County, NYC, New York, 10017, USA\n"
     ]
    }
   ],
   "source": [
    "print(location.address)"
   ]
  },
  {
   "cell_type": "code",
   "execution_count": 12,
   "metadata": {},
   "outputs": [
    {
     "name": "stdout",
     "output_type": "stream",
     "text": [
      "{'place_id': '138371945', 'licence': 'Data © OpenStreetMap contributors, ODbL 1.0. https://osm.org/copyright', 'osm_type': 'way', 'osm_id': '266010414', 'lat': '40.75362205', 'lon': '-73.9780733316277', 'display_name': '335 Madison Avenue, 335, Madison Avenue, Midtown East, Manhattan, Manhattan Community Board 5, New York County, NYC, New York, 10017, USA', 'address': {'building': '335 Madison Avenue', 'house_number': '335', 'road': 'Madison Avenue', 'suburb': 'Midtown East', 'city_district': 'Manhattan', 'city': 'NYC', 'county': 'New York County', 'state': 'New York', 'postcode': '10017', 'country': 'USA', 'country_code': 'us'}, 'boundingbox': ['40.7532159', '40.7539757', '-73.978603', '-73.9775817']}\n"
     ]
    }
   ],
   "source": [
    "print(location.raw)"
   ]
  },
  {
   "cell_type": "code",
   "execution_count": null,
   "metadata": {},
   "outputs": [],
   "source": []
  },
  {
   "cell_type": "code",
   "execution_count": null,
   "metadata": {},
   "outputs": [],
   "source": []
  },
  {
   "cell_type": "code",
   "execution_count": null,
   "metadata": {},
   "outputs": [],
   "source": []
  },
  {
   "cell_type": "code",
   "execution_count": 14,
   "metadata": {},
   "outputs": [],
   "source": [
    "#importing data\n",
    "train = pd.read_csv(\"C:/Users/shabbir.hasan/Documents/Hasan/Anaconda_rep/Kaggle/New_York_City_Taxi_Fare_Prediction/generated_datasets/clean_2.csv\")"
   ]
  },
  {
   "cell_type": "code",
   "execution_count": 15,
   "metadata": {},
   "outputs": [],
   "source": [
    "train['pickup_latitude'] = train['pickup_latitude'].round(6)\n",
    "train['pickup_longitude'] = train['pickup_longitude'].round(6)\n",
    "train['dropoff_latitude'] = train['dropoff_latitude'].round(6)\n",
    "train['dropoff_longitude'] = train['dropoff_longitude'].round(6)"
   ]
  },
  {
   "cell_type": "code",
   "execution_count": 23,
   "metadata": {},
   "outputs": [],
   "source": [
    "#removing lat and long with 0.0 values\n",
    "train = train[train['pickup_latitude'] != 0.0]\n",
    "train = train[train['pickup_longitude'] != 0.0]\n",
    "train = train[train['dropoff_latitude'] != 0.0]\n",
    "train = train[train['dropoff_longitude'] != 0.0]"
   ]
  },
  {
   "cell_type": "code",
   "execution_count": 24,
   "metadata": {},
   "outputs": [],
   "source": [
    "#pickup lat and long\n",
    "train['pic_lat_long'] = train['pickup_latitude'].astype(str)+ ' ' + train['pickup_longitude'].astype(str)\n",
    "\n",
    "#drop lat and long\n",
    "train['drop_lat_long'] = train['dropoff_latitude'].astype(str)+ ' ' + train['dropoff_longitude'].astype(str)"
   ]
  },
  {
   "cell_type": "code",
   "execution_count": 25,
   "metadata": {},
   "outputs": [
    {
     "data": {
      "text/html": [
       "<div>\n",
       "<style scoped>\n",
       "    .dataframe tbody tr th:only-of-type {\n",
       "        vertical-align: middle;\n",
       "    }\n",
       "\n",
       "    .dataframe tbody tr th {\n",
       "        vertical-align: top;\n",
       "    }\n",
       "\n",
       "    .dataframe thead th {\n",
       "        text-align: right;\n",
       "    }\n",
       "</style>\n",
       "<table border=\"1\" class=\"dataframe\">\n",
       "  <thead>\n",
       "    <tr style=\"text-align: right;\">\n",
       "      <th></th>\n",
       "      <th>fare_amount</th>\n",
       "      <th>pickup_longitude</th>\n",
       "      <th>pickup_latitude</th>\n",
       "      <th>dropoff_longitude</th>\n",
       "      <th>dropoff_latitude</th>\n",
       "      <th>passenger_count</th>\n",
       "      <th>year</th>\n",
       "      <th>month</th>\n",
       "      <th>day_of_month</th>\n",
       "      <th>date</th>\n",
       "      <th>day_of_week</th>\n",
       "      <th>weekend_weekday</th>\n",
       "      <th>hour</th>\n",
       "      <th>time_30_min_bin</th>\n",
       "      <th>time_15_min_bin</th>\n",
       "      <th>pic_lat_long</th>\n",
       "      <th>drop_lat_long</th>\n",
       "    </tr>\n",
       "  </thead>\n",
       "  <tbody>\n",
       "    <tr>\n",
       "      <th>0</th>\n",
       "      <td>4.0</td>\n",
       "      <td>-73.994102</td>\n",
       "      <td>40.751041</td>\n",
       "      <td>-73.991257</td>\n",
       "      <td>40.754959</td>\n",
       "      <td>1</td>\n",
       "      <td>2015</td>\n",
       "      <td>3</td>\n",
       "      <td>10</td>\n",
       "      <td>2015-03-10</td>\n",
       "      <td>Tuesday</td>\n",
       "      <td>0</td>\n",
       "      <td>7</td>\n",
       "      <td>30</td>\n",
       "      <td>45</td>\n",
       "      <td>40.751041 -73.994102</td>\n",
       "      <td>40.754959 -73.991257</td>\n",
       "    </tr>\n",
       "    <tr>\n",
       "      <th>1</th>\n",
       "      <td>6.1</td>\n",
       "      <td>-73.961686</td>\n",
       "      <td>40.713017</td>\n",
       "      <td>-73.952406</td>\n",
       "      <td>40.699525</td>\n",
       "      <td>1</td>\n",
       "      <td>2011</td>\n",
       "      <td>12</td>\n",
       "      <td>17</td>\n",
       "      <td>2011-12-17</td>\n",
       "      <td>Saturday</td>\n",
       "      <td>1</td>\n",
       "      <td>0</td>\n",
       "      <td>30</td>\n",
       "      <td>45</td>\n",
       "      <td>40.713017 -73.961686</td>\n",
       "      <td>40.699525 -73.952406</td>\n",
       "    </tr>\n",
       "    <tr>\n",
       "      <th>2</th>\n",
       "      <td>9.7</td>\n",
       "      <td>-73.978325</td>\n",
       "      <td>40.753808</td>\n",
       "      <td>-73.985068</td>\n",
       "      <td>40.756177</td>\n",
       "      <td>1</td>\n",
       "      <td>2010</td>\n",
       "      <td>9</td>\n",
       "      <td>16</td>\n",
       "      <td>2010-09-16</td>\n",
       "      <td>Thursday</td>\n",
       "      <td>0</td>\n",
       "      <td>0</td>\n",
       "      <td>0</td>\n",
       "      <td>15</td>\n",
       "      <td>40.753808 -73.978325</td>\n",
       "      <td>40.756177 -73.985068</td>\n",
       "    </tr>\n",
       "    <tr>\n",
       "      <th>3</th>\n",
       "      <td>6.9</td>\n",
       "      <td>-74.001737</td>\n",
       "      <td>40.719357</td>\n",
       "      <td>-73.992353</td>\n",
       "      <td>40.740713</td>\n",
       "      <td>1</td>\n",
       "      <td>2012</td>\n",
       "      <td>6</td>\n",
       "      <td>13</td>\n",
       "      <td>2012-06-13</td>\n",
       "      <td>Wednesday</td>\n",
       "      <td>0</td>\n",
       "      <td>18</td>\n",
       "      <td>0</td>\n",
       "      <td>0</td>\n",
       "      <td>40.719357 -74.001737</td>\n",
       "      <td>40.740713 -73.992353</td>\n",
       "    </tr>\n",
       "    <tr>\n",
       "      <th>4</th>\n",
       "      <td>6.0</td>\n",
       "      <td>-73.966393</td>\n",
       "      <td>40.770531</td>\n",
       "      <td>-73.958328</td>\n",
       "      <td>40.781441</td>\n",
       "      <td>3</td>\n",
       "      <td>2015</td>\n",
       "      <td>2</td>\n",
       "      <td>4</td>\n",
       "      <td>2015-02-04</td>\n",
       "      <td>Wednesday</td>\n",
       "      <td>0</td>\n",
       "      <td>7</td>\n",
       "      <td>30</td>\n",
       "      <td>30</td>\n",
       "      <td>40.770531 -73.966393</td>\n",
       "      <td>40.781441 -73.958328</td>\n",
       "    </tr>\n",
       "  </tbody>\n",
       "</table>\n",
       "</div>"
      ],
      "text/plain": [
       "   fare_amount  pickup_longitude  pickup_latitude  dropoff_longitude  \\\n",
       "0          4.0        -73.994102        40.751041         -73.991257   \n",
       "1          6.1        -73.961686        40.713017         -73.952406   \n",
       "2          9.7        -73.978325        40.753808         -73.985068   \n",
       "3          6.9        -74.001737        40.719357         -73.992353   \n",
       "4          6.0        -73.966393        40.770531         -73.958328   \n",
       "\n",
       "   dropoff_latitude  passenger_count  year  month  day_of_month        date  \\\n",
       "0         40.754959                1  2015      3            10  2015-03-10   \n",
       "1         40.699525                1  2011     12            17  2011-12-17   \n",
       "2         40.756177                1  2010      9            16  2010-09-16   \n",
       "3         40.740713                1  2012      6            13  2012-06-13   \n",
       "4         40.781441                3  2015      2             4  2015-02-04   \n",
       "\n",
       "  day_of_week  weekend_weekday  hour  time_30_min_bin  time_15_min_bin  \\\n",
       "0     Tuesday                0     7               30               45   \n",
       "1    Saturday                1     0               30               45   \n",
       "2    Thursday                0     0                0               15   \n",
       "3   Wednesday                0    18                0                0   \n",
       "4   Wednesday                0     7               30               30   \n",
       "\n",
       "           pic_lat_long         drop_lat_long  \n",
       "0  40.751041 -73.994102  40.754959 -73.991257  \n",
       "1  40.713017 -73.961686  40.699525 -73.952406  \n",
       "2  40.753808 -73.978325  40.756177 -73.985068  \n",
       "3  40.719357 -74.001737  40.740713 -73.992353  \n",
       "4  40.770531 -73.966393  40.781441 -73.958328  "
      ]
     },
     "execution_count": 25,
     "metadata": {},
     "output_type": "execute_result"
    }
   ],
   "source": [
    "train.head()"
   ]
  },
  {
   "cell_type": "code",
   "execution_count": null,
   "metadata": {},
   "outputs": [],
   "source": []
  },
  {
   "cell_type": "code",
   "execution_count": 26,
   "metadata": {
    "scrolled": true
   },
   "outputs": [
    {
     "data": {
      "text/plain": [
       "fare_amount          float64\n",
       "pickup_longitude     float64\n",
       "pickup_latitude      float64\n",
       "dropoff_longitude    float64\n",
       "dropoff_latitude     float64\n",
       "passenger_count        int64\n",
       "year                   int64\n",
       "month                  int64\n",
       "day_of_month           int64\n",
       "date                  object\n",
       "day_of_week           object\n",
       "weekend_weekday        int64\n",
       "hour                   int64\n",
       "time_30_min_bin        int64\n",
       "time_15_min_bin        int64\n",
       "pic_lat_long          object\n",
       "drop_lat_long         object\n",
       "dtype: object"
      ]
     },
     "execution_count": 26,
     "metadata": {},
     "output_type": "execute_result"
    }
   ],
   "source": [
    "train.dtypes"
   ]
  },
  {
   "cell_type": "code",
   "execution_count": 28,
   "metadata": {},
   "outputs": [],
   "source": [
    "def geo_loc(x):\n",
    "    geolocator = Nominatim(user_agent=\"specify_your_app_name_here\")\n",
    "    location = geolocator.reverse(x)\n",
    "    return location.address\n"
   ]
  },
  {
   "cell_type": "code",
   "execution_count": 35,
   "metadata": {},
   "outputs": [],
   "source": [
    "#train['pic_address'] = train.pic_lat_long.apply(lambda x: geo_loc(x.decode('utf-8')))\n",
    "train['pic_address'] = train.pic_lat_long.head().apply(lambda x: geo_loc(x))"
   ]
  },
  {
   "cell_type": "code",
   "execution_count": null,
   "metadata": {},
   "outputs": [],
   "source": [
    "train['drop_address'] = train.drop_lat_long.apply(lambda x: geo_loc(x))"
   ]
  },
  {
   "cell_type": "code",
   "execution_count": null,
   "metadata": {},
   "outputs": [],
   "source": [
    "train.to_csv('clean_3_with_geoLoc.csv', index=False )"
   ]
  },
  {
   "cell_type": "code",
   "execution_count": null,
   "metadata": {},
   "outputs": [],
   "source": []
  },
  {
   "cell_type": "code",
   "execution_count": null,
   "metadata": {},
   "outputs": [],
   "source": []
  },
  {
   "cell_type": "code",
   "execution_count": null,
   "metadata": {},
   "outputs": [],
   "source": [
    " train.pic_lat_long.apply(lambda x: geolocator.reverse(x)).head()"
   ]
  },
  {
   "cell_type": "code",
   "execution_count": null,
   "metadata": {},
   "outputs": [],
   "source": []
  }
 ],
 "metadata": {
  "kernelspec": {
   "display_name": "Python 3",
   "language": "python",
   "name": "python3"
  },
  "language_info": {
   "codemirror_mode": {
    "name": "ipython",
    "version": 3
   },
   "file_extension": ".py",
   "mimetype": "text/x-python",
   "name": "python",
   "nbconvert_exporter": "python",
   "pygments_lexer": "ipython3",
   "version": "3.7.0"
  }
 },
 "nbformat": 4,
 "nbformat_minor": 2
}
